{
 "cells": [
  {
   "cell_type": "code",
   "execution_count": 60,
   "metadata": {},
   "outputs": [],
   "source": [
    "import pandas as pd\n",
    "import json\n",
    "import os\n",
    "\n",
    "from src.data_manipulation import data_processing"
   ]
  },
  {
   "cell_type": "code",
   "execution_count": 61,
   "metadata": {},
   "outputs": [],
   "source": [
    "with open(\"data/liquidation_events.json\", \"r\") as file:\n",
    "    agreementLiquidatedByEvents = json.loads(file.read())\n",
    "\n",
    "with open(\"data/account_token_snapshots.json\", \"r\") as file:\n",
    "    accountTokenSnapshots = json.loads(file.read())\n",
    "\n",
    "for snapshot in accountTokenSnapshots:\n",
    "\n",
    "    snapshot[\"balanceUntilUpdatedAt\"] = snapshot[\"accountTokenSnapshot\"][\"balanceUntilUpdatedAt\"]\n",
    "    snapshot[\"updatedAtTimestamp\"] = snapshot[\"accountTokenSnapshot\"][\"updatedAtTimestamp\"]\n",
    "    snapshot.pop(\"accountTokenSnapshot\")\n"
   ]
  },
  {
   "cell_type": "code",
   "execution_count": 62,
   "metadata": {},
   "outputs": [],
   "source": [
    "liquidation_events = agreementLiquidatedByEvents\n",
    "account_token_snapshots = accountTokenSnapshots "
   ]
  },
  {
   "cell_type": "code",
   "execution_count": 63,
   "metadata": {},
   "outputs": [],
   "source": [
    "# DATA IMPORT\n",
    "agreementLiquidatedByEvents = pd.DataFrame(liquidation_events)\n",
    "accountTokenSnapshots = pd.DataFrame(account_token_snapshots)   "
   ]
  },
  {
   "cell_type": "code",
   "execution_count": 64,
   "metadata": {},
   "outputs": [],
   "source": [
    "# TYPE FORMATTING\n",
    "accountTokenSnapshots[\"balance\"] = accountTokenSnapshots[\"balance_form\"]\n",
    "accountTokenSnapshots[\"totalNetFlowRate\"] = accountTokenSnapshots[\"totalNetFlowRate_form\"]\n",
    "accountTokenSnapshots = accountTokenSnapshots.drop([\"balance_form\", \"totalNetFlowRate_form\"], axis=1)\n",
    "agreementLiquidatedByEvents[\"rewardAmount\"] = agreementLiquidatedByEvents[\"rewardAmount_form\"]\n",
    "agreementLiquidatedByEvents = agreementLiquidatedByEvents.drop(\"rewardAmount_form\", axis=1)"
   ]
  },
  {
   "cell_type": "code",
   "execution_count": 65,
   "metadata": {},
   "outputs": [],
   "source": [
    "# DATA WRANGLING\n",
    "#agreementLiquidatedByEvents[\"targetAccount-token\"] = agreementLiquidatedByEvents['targetAccount'] + \" - \" + agreementLiquidatedByEvents['token']\n",
    "#agreementLiquidatedByEvents = agreementLiquidatedByEvents[[not elem for elem in agreementLiquidatedByEvents.duplicated(subset=\"targetAccount-token\")]].reset_index()\n",
    "#accountTokenSnapshots = accountTokenSnapshots[[not elem for elem in accountTokenSnapshots.duplicated(subset=\"id\")]].reset_index()\n",
    "## create index columns to merge datasets\n",
    "accountTokenSnapshots[['prefix', 'targetAccount', 'token', 'transactionHash', 'logIndex']] = accountTokenSnapshots['id'].str.split('-', -1, expand=True)\n",
    "\n"
   ]
  },
  {
   "cell_type": "code",
   "execution_count": 66,
   "metadata": {},
   "outputs": [],
   "source": [
    "# filter out ATS duplicates \n",
    "accountTokenSnapshots = accountTokenSnapshots.drop_duplicates([\"blockNumber\", \"targetAccount\", \"token\"])"
   ]
  },
  {
   "cell_type": "code",
   "execution_count": 67,
   "metadata": {},
   "outputs": [],
   "source": [
    "# merge datasets\n",
    "merged_data = agreementLiquidatedByEvents.merge(accountTokenSnapshots, how=\"left\", on=[\"blockNumber\", \"targetAccount\", \"token\"])"
   ]
  },
  {
   "cell_type": "code",
   "execution_count": null,
   "metadata": {},
   "outputs": [],
   "source": [
    "\n",
    "# select only relevant columns \n",
    "merged_data = merged_data[[\"liquidatorAccount\", \"rewardAmount\",\"timestamp\", \"balanceUntilUpdatedAt\", \"updatedAtTimestamp\", \"totalNetFlowRate\"]]\n",
    "\n",
    "# rename columns \n",
    "merged_data.rename(columns = {'timestamp':'liquidationTimestampUNIX', 'updatedAtTimestamp': 'dateCreatedTimestampUNIX', 'balanceUntilUpdatedAt': 'startingBalance'}, inplace = True)\n",
    "\n",
    "# calculations\n",
    "## convert datatime column into unix format\n",
    "merged_data[\"liquidationTimestampUNIX\"] = merged_data[\"liquidationTimestampUNIX\"].astype(int).astype(str).str[:10].astype(int)\n",
    "\n",
    "merged_data[\"balanceSendAway\"] = (merged_data[\"liquidationTimestampUNIX\"] - merged_data[\"dateCreatedTimestampUNIX\"].astype(int)) * merged_data[\"totalNetFlowRate\"]\n",
    "merged_data[\"balanceAtLiquidation\"] = merged_data[\"balanceSendAway\"] + merged_data[\"startingBalance\"]\n",
    "merged_data[\"responseTime_sec\"] = merged_data[\"balanceAtLiquidation\"] / merged_data[\"totalNetFlowRate\"]\n",
    "\n",
    "# feature engineering\n",
    "merged_data[\"liquidationTimestampDatetime\"] = pd.to_datetime(merged_data['liquidationTimestampUNIX'], unit='s')\n",
    "merged_data[\"date\"] = merged_data[\"liquidationTimestampDatetime\"].dt.date\n",
    "merged_data[\"hourOfDay\"] = merged_data[\"liquidationTimestampDatetime\"].dt.hour\n",
    "merged_data[\"dateHour\"] = merged_data[\"liquidationTimestampDatetime\"].dt.year.astype(str) + \"-\" + \\\n",
    "    merged_data[\"liquidationTimestampDatetime\"].dt.month.astype(str).str.zfill(2) + \"-\" + \\\n",
    "    merged_data[\"liquidationTimestampDatetime\"].dt.day.astype(str).str.zfill(2) + \" \" + \\\n",
    "    merged_data[\"liquidationTimestampDatetime\"].dt.hour.astype(str).str.zfill(2) + \":00\""
   ]
  },
  {
   "cell_type": "code",
   "execution_count": 3,
   "metadata": {},
   "outputs": [],
   "source": [
    "merged_data = data_processing(\n",
    "    liquidation_events=agreementLiquidatedByEvents, \n",
    "    account_token_snapshots=accountTokenSnapshots\n",
    "    )"
   ]
  },
  {
   "cell_type": "code",
   "execution_count": null,
   "metadata": {},
   "outputs": [],
   "source": []
  }
 ],
 "metadata": {
  "interpreter": {
   "hash": "3853a4a41f994c35fa06a5f1608de4fb948db4c80929d1f7f9b66ac0119d1f40"
  },
  "kernelspec": {
   "display_name": "Python 3.8.10 ('.venv': venv)",
   "language": "python",
   "name": "python3"
  },
  "language_info": {
   "codemirror_mode": {
    "name": "ipython",
    "version": 3
   },
   "file_extension": ".py",
   "mimetype": "text/x-python",
   "name": "python",
   "nbconvert_exporter": "python",
   "pygments_lexer": "ipython3",
   "version": "3.8.10"
  },
  "orig_nbformat": 4
 },
 "nbformat": 4,
 "nbformat_minor": 2
}
